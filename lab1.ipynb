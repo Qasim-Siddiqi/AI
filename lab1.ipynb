{
 "cells": [
  {
   "cell_type": "code",
   "execution_count": null,
   "id": "d6f37d51-a593-43ed-ab43-5f03c52eae16",
   "metadata": {},
   "outputs": [
    {
     "name": "stdout",
     "output_type": "stream",
     "text": [
      "Hello world!\n"
     ]
    }
   ],
   "source": [
    "print(\"Hello world!\")"
   ]
  },
  {
   "cell_type": "code",
   "execution_count": 6,
   "id": "23199f5d-70a0-415c-acd4-47be74ba0b35",
   "metadata": {},
   "outputs": [
    {
     "name": "stdout",
     "output_type": "stream",
     "text": [
      "These are two comments\n"
     ]
    }
   ],
   "source": [
    "x=1\n",
    "if(x>0):\n",
    "    print(\"These are two comments\")"
   ]
  },
  {
   "cell_type": "code",
   "execution_count": 7,
   "id": "dc6538fc-462b-49be-8431-938452560c82",
   "metadata": {},
   "outputs": [
    {
     "name": "stdout",
     "output_type": "stream",
     "text": [
      "Type something:  hy\n"
     ]
    },
    {
     "name": "stdout",
     "output_type": "stream",
     "text": [
      "hy\n"
     ]
    }
   ],
   "source": [
    "txt=input(\"Type something: \")\n",
    "print(txt)\n"
   ]
  },
  {
   "cell_type": "code",
   "execution_count": 8,
   "id": "0af7185f-06c9-4a94-a929-9f213ba6319a",
   "metadata": {},
   "outputs": [
    {
     "name": "stdout",
     "output_type": "stream",
     "text": [
      "Statement 1\n",
      "Statement 2\n",
      "Statement 1\n",
      "Statement 2\n"
     ]
    }
   ],
   "source": [
    "print(\"Statement 1\")\n",
    "print(\"Statement 2\")\n",
    "# or you can write the same as: \n",
    "print(\"Statement 1\"); print(\"Statement 2\")\n"
   ]
  },
  {
   "cell_type": "code",
   "execution_count": 10,
   "id": "4acac020-f418-4cad-a2ba-210fa6d1d4d9",
   "metadata": {},
   "outputs": [
    {
     "name": "stdout",
     "output_type": "stream",
     "text": [
      "This statement has single space indentation\n",
      "This statement has single space indentation\n"
     ]
    }
   ],
   "source": [
    "#with single space indentation:\n",
    "x=1\n",
    "if(x>0):\n",
    " print(\"This statement has single space indentation\")\n",
    " print(\"This statement has single space indentation\")\n"
   ]
  },
  {
   "cell_type": "code",
   "execution_count": 29,
   "id": "a0dd00f5-48d9-4fbe-9a50-89ae83db89df",
   "metadata": {},
   "outputs": [
    {
     "ename": "IndentationError",
     "evalue": "expected an indented block after 'if' statement on line 2 (1776053149.py, line 3)",
     "output_type": "error",
     "traceback": [
      "\u001b[1;36m  Cell \u001b[1;32mIn[29], line 3\u001b[1;36m\u001b[0m\n\u001b[1;33m    print(\"There is no indentation\")\u001b[0m\n\u001b[1;37m    ^\u001b[0m\n\u001b[1;31mIndentationError\u001b[0m\u001b[1;31m:\u001b[0m expected an indented block after 'if' statement on line 2\n"
     ]
    }
   ],
   "source": [
    "x = 1\n",
    "if x > 0:\n",
    "print(\"There is no indentation\")"
   ]
  },
  {
   "cell_type": "code",
   "execution_count": 15,
   "id": "65e57ea8-7e75-4df1-aefc-817a7f311ef8",
   "metadata": {},
   "outputs": [
    {
     "name": "stdout",
     "output_type": "stream",
     "text": [
      "This statement has a single Tab indentation\n",
      "This statement has a single Tab indentation\n"
     ]
    }
   ],
   "source": [
    "# with single tab indentation. \n",
    "if(x>0):\n",
    "    print(\"This statement has a single Tab indentation\")\n",
    "    print(\"This statement has a single Tab indentation\")"
   ]
  },
  {
   "cell_type": "code",
   "execution_count": 18,
   "id": "b9c31897-2d06-4ec0-8bd1-e7d3f4af2d02",
   "metadata": {},
   "outputs": [
    {
     "name": "stdout",
     "output_type": "stream",
     "text": [
      "This statement has  indentation of a single space + a single tab.\n",
      "This statement has  indentation of a single space + a single tab.\n"
     ]
    }
   ],
   "source": [
    "#  indentation of a single space + a single tab.\n",
    "if(x>0):\n",
    "     print(\"This statement has  indentation of a single space + a single tab.\")\n",
    "     print(\"This statement has  indentation of a single space + a single tab.\")\n"
   ]
  },
  {
   "cell_type": "code",
   "execution_count": 19,
   "id": "696625ed-16be-41fc-8a60-f96a9bac60e4",
   "metadata": {},
   "outputs": [
    {
     "name": "stdout",
     "output_type": "stream",
     "text": [
      "<class 'int'>\n",
      "<class 'int'>\n",
      "<class 'int'>\n",
      "<class 'float'>\n",
      "<class 'float'>\n",
      "<class 'float'>\n",
      "<class 'float'>\n",
      "<class 'float'>\n"
     ]
    }
   ],
   "source": [
    "#Data Types\n",
    "\n",
    "a=1452\n",
    "print(type(a))\n",
    "\n",
    "b=-1452\n",
    "print(type(b))\n",
    "\n",
    "c=0\n",
    "print(type(c))\n",
    "\n",
    "g=1.03\n",
    "print(type(g))\n",
    "\n",
    "h=-11.03\n",
    "print(type(h))\n",
    "\n",
    "i= .34\n",
    "print(type(i))\n",
    "\n",
    "j= 2.10e-10\n",
    "print(type(j))\n",
    "\n",
    "k=5E220\n",
    "print(type(k))\n"
   ]
  },
  {
   "cell_type": "code",
   "execution_count": 20,
   "id": "63b2f170-1d08-4c93-a290-ed44e700ad0c",
   "metadata": {},
   "outputs": [
    {
     "name": "stdout",
     "output_type": "stream",
     "text": [
      "<class 'complex'>\n",
      "(1+2j)\n",
      "<class 'complex'>\n",
      "(1+2j)\n",
      "<class 'complex'>\n",
      "(1+2j)\n"
     ]
    }
   ],
   "source": [
    "x=complex(1,2)\n",
    "print(type(x))\n",
    "print(x)\n",
    "\n",
    "z=1+2j\n",
    "print(type(z))\n",
    "print(z)\n",
    "\n",
    "z=1+2J\n",
    "print(type(z))\n",
    "print(z)"
   ]
  },
  {
   "cell_type": "code",
   "execution_count": 21,
   "id": "ce6ed07e-3e48-4158-89cd-f37d9869419b",
   "metadata": {},
   "outputs": [
    {
     "name": "stdout",
     "output_type": "stream",
     "text": [
      "<class 'bool'>\n",
      "<class 'bool'>\n"
     ]
    }
   ],
   "source": [
    "x=True\n",
    "print(type(x))\n",
    "\n",
    "y=False\n",
    "print(type(y))"
   ]
  },
  {
   "cell_type": "code",
   "execution_count": 22,
   "id": "16ee1da7-931c-46b7-9f39-d38ba4077cc6",
   "metadata": {},
   "outputs": [
    {
     "name": "stdout",
     "output_type": "stream",
     "text": [
      "string1\n",
      "string2\n",
      "Day's\n",
      "Day\"s\n"
     ]
    }
   ],
   "source": [
    "#Strings\n",
    "\n",
    "str1=\"string1\"\n",
    "print(str1)\n",
    "\n",
    "str2='string2'\n",
    "print(str2)\n",
    "\n",
    "str3=\"Day's\"\n",
    "print(str3)\n",
    "\n",
    "str4='Day\"s'\n",
    "print(str4)\n"
   ]
  },
  {
   "cell_type": "code",
   "execution_count": 23,
   "id": "256f2274-429c-4210-95fe-aa89382090b7",
   "metadata": {},
   "outputs": [
    {
     "name": "stdout",
     "output_type": "stream",
     "text": [
      "this is a \\ backSlash\n",
      "this is tab \t key\n",
      "these are 'single quotes'\n",
      "these are \"double quotes\"\n",
      "This is a new line\n",
      " New line\n"
     ]
    }
   ],
   "source": [
    "print(\"this is a \\\\ backSlash\")\n",
    "print(\"this is tab \\t key\")\n",
    "print(\"these are \\'single quotes\\'\")\n",
    "print(\"these are \\\"double quotes\\\"\")\n",
    "print(\"This is a new line\\n New line\")"
   ]
  },
  {
   "cell_type": "code",
   "execution_count": 30,
   "id": "d8cb9a87-5818-4938-92c5-0593852a02d2",
   "metadata": {},
   "outputs": [
    {
     "name": "stdout",
     "output_type": "stream",
     "text": [
      "P\n",
      "P\n",
      "L\n",
      "L\n",
      "O\n",
      "O\n"
     ]
    },
    {
     "ename": "IndexError",
     "evalue": "string index out of range",
     "output_type": "error",
     "traceback": [
      "\u001b[1;31m---------------------------------------------------------------------------\u001b[0m",
      "\u001b[1;31mIndexError\u001b[0m                                Traceback (most recent call last)",
      "Cell \u001b[1;32mIn[30], line 12\u001b[0m\n\u001b[0;32m      9\u001b[0m \u001b[38;5;28mprint\u001b[39m(\u001b[38;5;28mstr\u001b[39m[\u001b[38;5;241m4\u001b[39m])\n\u001b[0;32m     10\u001b[0m \u001b[38;5;28mprint\u001b[39m(\u001b[38;5;28mstr\u001b[39m[\u001b[38;5;241m-\u001b[39m\u001b[38;5;241m11\u001b[39m])\n\u001b[1;32m---> 12\u001b[0m \u001b[38;5;28mprint\u001b[39m(\u001b[38;5;28mstr\u001b[39m[\u001b[38;5;241m16\u001b[39m])\n",
      "\u001b[1;31mIndexError\u001b[0m: string index out of range"
     ]
    }
   ],
   "source": [
    "str=\"PYTHON TUTORIAL\"\n",
    "\n",
    "print(str[0])\n",
    "print(str[-15])\n",
    "\n",
    "print(str[14])\n",
    "print(str[-1])\n",
    "\n",
    "print(str[4])\n",
    "print(str[-11])\n",
    "\n",
    "print(str[16]) #printing out of range index"
   ]
  },
  {
   "cell_type": "code",
   "execution_count": 25,
   "id": "1b6c1cf3-7f6e-4a3b-af4b-70c8357e0e92",
   "metadata": {},
   "outputs": [
    {
     "name": "stdout",
     "output_type": "stream",
     "text": [
      "[5, 12, 13, 14]\n",
      "['red', 'black', 'white']\n",
      "['red', 12, -17.3]\n"
     ]
    }
   ],
   "source": [
    "#List\n",
    "\n",
    "my_list1=[5,12,13,14]\n",
    "print(my_list1)\n",
    "\n",
    "my_list2=[\"red\", \"black\", \"white\"]\n",
    "print(my_list2)\n",
    "\n",
    "my_list3=[\"red\", 12, -17.3]\n",
    "print(my_list3)\n"
   ]
  },
  {
   "cell_type": "code",
   "execution_count": 26,
   "id": "2ae3f54d-00c7-41de-a66f-2af2afa0520f",
   "metadata": {},
   "outputs": [
    {
     "name": "stdout",
     "output_type": "stream",
     "text": [
      "[]\n"
     ]
    }
   ],
   "source": [
    "my_list=[]\n",
    "print(my_list)\n"
   ]
  },
  {
   "cell_type": "code",
   "execution_count": 27,
   "id": "5833e6e4-12ca-4828-b4b7-33b5463b85e1",
   "metadata": {},
   "outputs": [
    {
     "name": "stdout",
     "output_type": "stream",
     "text": [
      "red\n",
      "red blue\n",
      "blue\n"
     ]
    }
   ],
   "source": [
    "color_list=['red', 'black', 'green', 'blue']\n",
    "print(color_list[0])\n",
    "print(color_list[0], color_list[3])\n",
    "print(color_list[-1])\n"
   ]
  },
  {
   "cell_type": "code",
   "execution_count": 28,
   "id": "34e5dea8-0ad3-46b7-a214-3ffed016b93a",
   "metadata": {},
   "outputs": [
    {
     "name": "stdout",
     "output_type": "stream",
     "text": [
      "['red', 'black']\n",
      "['black']\n",
      "['black']\n",
      "['red', 'black', 'green']\n",
      "['red', 'black', 'green', 'blue']\n"
     ]
    }
   ],
   "source": [
    "#string slicing\n",
    "print(color_list[0:2])\n",
    "print(color_list[1:2])\n",
    "print(color_list[1:-2])\n",
    "print(color_list[:3])\n",
    "print(color_list[:])\n"
   ]
  },
  {
   "cell_type": "code",
   "execution_count": null,
   "id": "922a3a77-784a-4a5b-8ed0-e70165faa78e",
   "metadata": {},
   "outputs": [],
   "source": []
  }
 ],
 "metadata": {
  "kernelspec": {
   "display_name": "Python 3 (ipykernel)",
   "language": "python",
   "name": "python3"
  },
  "language_info": {
   "codemirror_mode": {
    "name": "ipython",
    "version": 3
   },
   "file_extension": ".py",
   "mimetype": "text/x-python",
   "name": "python",
   "nbconvert_exporter": "python",
   "pygments_lexer": "ipython3",
   "version": "3.12.7"
  }
 },
 "nbformat": 4,
 "nbformat_minor": 5
}
