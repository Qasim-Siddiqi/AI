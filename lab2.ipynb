{
 "cells": [
  {
   "cell_type": "code",
   "execution_count": 1,
   "id": "4360ff11-9395-4647-a903-afcfb10f2aed",
   "metadata": {},
   "outputs": [
    {
     "name": "stdout",
     "output_type": "stream",
     "text": [
      "Hello Greek\n",
      "Hello Greek\n",
      "Hello Greek\n"
     ]
    }
   ],
   "source": [
    "count=0\n",
    "while(count<3):\n",
    "    count=count+1\n",
    "    print(\"Hello Greek\")"
   ]
  },
  {
   "cell_type": "code",
   "execution_count": 2,
   "id": "3e635b69-3422-4561-a0e8-79c5c4cac6a8",
   "metadata": {},
   "outputs": [
    {
     "name": "stdout",
     "output_type": "stream",
     "text": [
      "List Iteration: \n",
      "greeks\n",
      "for\n",
      "geeks\n"
     ]
    }
   ],
   "source": [
    "print(\"List Iteration: \")\n",
    "l=[\"greeks\",\"for\",\"geeks\"]\n",
    "for i in l:\n",
    "    print(i)"
   ]
  },
  {
   "cell_type": "code",
   "execution_count": 3,
   "id": "9921e127-99fd-4b80-9f57-625ab89c50f7",
   "metadata": {},
   "outputs": [
    {
     "name": "stdout",
     "output_type": "stream",
     "text": [
      "Tuple Iteration\n",
      "geeks\n",
      "for\n",
      "geeks\n"
     ]
    }
   ],
   "source": [
    "print(\"Tuple Iteration\") \n",
    "t = (\"geeks\", \"for\", \"geeks\") \n",
    "for i in t: \n",
    "    print(i)"
   ]
  },
  {
   "cell_type": "code",
   "execution_count": 4,
   "id": "868ba840-8770-4a45-9902-38c41a6c3292",
   "metadata": {},
   "outputs": [
    {
     "name": "stdout",
     "output_type": "stream",
     "text": [
      "String iteration\n",
      "G\n",
      "e\n",
      "e\n",
      "k\n",
      "s\n"
     ]
    }
   ],
   "source": [
    "print(\"String iteration\")\n",
    "s=\"Geeks\"\n",
    "for i in s:\n",
    "    print(i)"
   ]
  },
  {
   "cell_type": "code",
   "execution_count": 5,
   "id": "bd874392-3cc1-461b-866d-a3f1c4c3e940",
   "metadata": {},
   "outputs": [
    {
     "name": "stdout",
     "output_type": "stream",
     "text": [
      "geeks\n",
      "for\n",
      "geeks\n"
     ]
    }
   ],
   "source": [
    "list = [\"geeks\", \"for\", \"geeks\"]\n",
    "for index in range(len(list)):\n",
    "    print(list[index])\n"
   ]
  },
  {
   "cell_type": "code",
   "execution_count": 6,
   "id": "774f8f5b-451c-4c19-a0e8-978ade482df8",
   "metadata": {},
   "outputs": [
    {
     "name": "stdout",
     "output_type": "stream",
     "text": [
      "current letter:  g\n",
      "current letter:  r\n",
      "current letter:  e\n",
      "current letter:  e\n",
      "current letter:  k\n",
      "current letter:  o\n",
      "current letter:  r\n",
      "current letter:  g\n",
      "current letter:  e\n",
      "current letter:  e\n",
      "current letter:  k\n"
     ]
    }
   ],
   "source": [
    "for letter in \"greeksforgeeks\":\n",
    "    if letter=='s' or letter==\"f\":\n",
    "        continue\n",
    "    print( \"current letter: \",letter)"
   ]
  },
  {
   "cell_type": "code",
   "execution_count": 7,
   "id": "4bbe7326-c7b7-4130-800a-0a2219b3a064",
   "metadata": {},
   "outputs": [
    {
     "name": "stdout",
     "output_type": "stream",
     "text": [
      "current letter:  g\n",
      "current letter:  r\n"
     ]
    }
   ],
   "source": [
    "for letter in \"greeksforgeeks\":\n",
    "    if letter=='e' or letter==\"s\":\n",
    "        break\n",
    "    print( \"current letter: \",letter)"
   ]
  },
  {
   "cell_type": "code",
   "execution_count": 8,
   "id": "a46416c5-234b-445e-933c-f3ae795542d4",
   "metadata": {},
   "outputs": [
    {
     "name": "stdout",
     "output_type": "stream",
     "text": [
      "Hello from function!\n"
     ]
    }
   ],
   "source": [
    "def my_function():\n",
    "    print(\"Hello from function!\")\n",
    "\n",
    "my_function()"
   ]
  },
  {
   "cell_type": "code",
   "execution_count": 9,
   "id": "8f2a7b46-702f-4b6a-8cb6-ff1deb5e4caf",
   "metadata": {},
   "outputs": [
    {
     "name": "stdout",
     "output_type": "stream",
     "text": [
      "Emil Refsnes\n",
      "Tobias Refsnes\n",
      "Linus Refsnes\n"
     ]
    }
   ],
   "source": [
    "def my_function(fname): \n",
    "    print(fname + \" Refsnes\")\n",
    "my_function(\"Emil\") \n",
    "my_function(\"Tobias\") \n",
    "my_function(\"Linus\")"
   ]
  },
  {
   "cell_type": "code",
   "execution_count": 10,
   "id": "c09483ea-3857-4b4a-b04c-2fcd1be114f1",
   "metadata": {},
   "outputs": [
    {
     "name": "stdout",
     "output_type": "stream",
     "text": [
      "I am from Norway\n",
      "I am from Sweden\n",
      "I am from India\n",
      "I am from Brazil\n"
     ]
    }
   ],
   "source": [
    "def my_function(country = \"Norway\"): \n",
    "    print(\"I am from \" + country)\n",
    "my_function()\n",
    "my_function(\"Sweden\")  \n",
    "my_function(\"India\")    \n",
    "my_function(\"Brazil\")"
   ]
  },
  {
   "cell_type": "code",
   "execution_count": 11,
   "id": "0208792e-a1e1-4e1a-8def-bf4eeee8d090",
   "metadata": {},
   "outputs": [
    {
     "name": "stdout",
     "output_type": "stream",
     "text": [
      "apple\n",
      "banana\n",
      "cherry\n"
     ]
    }
   ],
   "source": [
    "def my_function(food): \n",
    "    for x in food: \n",
    "        print(x) \n",
    "        \n",
    "fruits = [\"apple\", \"banana\", \"cherry\"] \n",
    "\n",
    "my_function(fruits)"
   ]
  },
  {
   "cell_type": "code",
   "execution_count": 12,
   "id": "f1d99986-a531-43cd-b19b-c09e7eff487f",
   "metadata": {},
   "outputs": [
    {
     "name": "stdout",
     "output_type": "stream",
     "text": [
      "50\n",
      "100\n"
     ]
    }
   ],
   "source": [
    "def my_function(x):\n",
    "    return 5*x\n",
    "\n",
    "print(my_function(10))\n",
    "print(my_function(20))"
   ]
  },
  {
   "cell_type": "code",
   "execution_count": 13,
   "id": "d5bf7eb5-4b15-4fe4-8932-fd3a776690c3",
   "metadata": {},
   "outputs": [
    {
     "name": "stdout",
     "output_type": "stream",
     "text": [
      "The youngest child is Linus\n"
     ]
    }
   ],
   "source": [
    "def my_function(child3, child2, child1): \n",
    "    print(\"The youngest child is \" + child3) \n",
    "my_function(child1 = \"Emil\", child2 = \"Tobias\", child3 = \"Linus\")"
   ]
  },
  {
   "cell_type": "code",
   "execution_count": 14,
   "id": "b18414aa-41eb-4268-bbf8-a8bc98775e93",
   "metadata": {},
   "outputs": [
    {
     "name": "stdout",
     "output_type": "stream",
     "text": [
      "5\n"
     ]
    }
   ],
   "source": [
    "class MyClass: \n",
    "    x = 5 \n",
    "p1 = MyClass() \n",
    "print(p1.x)"
   ]
  },
  {
   "cell_type": "code",
   "execution_count": 15,
   "id": "06fe5759-0e26-479d-bc46-2f3f072ada17",
   "metadata": {},
   "outputs": [
    {
     "name": "stdout",
     "output_type": "stream",
     "text": [
      "John\n",
      "36\n"
     ]
    }
   ],
   "source": [
    "class Person: \n",
    "    def __init__ (self, name, age): \n",
    "        self.name = name \n",
    "        self.age = age \n",
    "    \n",
    "p1 = Person(\"John\", 36) \n",
    "print(p1.name) \n",
    "print(p1.age)"
   ]
  },
  {
   "cell_type": "code",
   "execution_count": 16,
   "id": "ea61553c-0471-440f-95ba-e9556d6e2110",
   "metadata": {},
   "outputs": [
    {
     "name": "stdout",
     "output_type": "stream",
     "text": [
      "Hello my name is John\n"
     ]
    }
   ],
   "source": [
    "class Person: \n",
    "    def __init__ (self, name, age): \n",
    "        self.name = name \n",
    "        self.age = age \n",
    "        \n",
    "    def myfunc(self): \n",
    "        print(\"Hello my name is \" + self.name) \n",
    "p1 = Person(\"John\", 36) \n",
    "p1.myfunc()"
   ]
  },
  {
   "cell_type": "code",
   "execution_count": null,
   "id": "532f2bf2-913c-43e8-b1f4-10a247d10032",
   "metadata": {},
   "outputs": [],
   "source": []
  }
 ],
 "metadata": {
  "kernelspec": {
   "display_name": "Python 3 (ipykernel)",
   "language": "python",
   "name": "python3"
  },
  "language_info": {
   "codemirror_mode": {
    "name": "ipython",
    "version": 3
   },
   "file_extension": ".py",
   "mimetype": "text/x-python",
   "name": "python",
   "nbconvert_exporter": "python",
   "pygments_lexer": "ipython3",
   "version": "3.12.7"
  }
 },
 "nbformat": 4,
 "nbformat_minor": 5
}
