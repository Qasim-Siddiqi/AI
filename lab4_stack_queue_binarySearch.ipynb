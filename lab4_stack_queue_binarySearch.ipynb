{
 "cells": [
  {
   "cell_type": "markdown",
   "id": "091cec40-fa76-4108-b761-1f38c1d68b20",
   "metadata": {},
   "source": [
    "### STACK IMPLEMENTATION"
   ]
  },
  {
   "cell_type": "code",
   "execution_count": 9,
   "id": "4694dcc7-8e6e-46c6-bc9c-0ef3e083dc5f",
   "metadata": {},
   "outputs": [
    {
     "name": "stdout",
     "output_type": "stream",
     "text": [
      "[10, 20, 30, 40]\n",
      "[10, 20]\n",
      "20\n"
     ]
    }
   ],
   "source": [
    "class stack:\n",
    "    def __init__ (self):\n",
    "        self.list=[]\n",
    "\n",
    "    def push(self, value):\n",
    "            self.list.append(value)  \n",
    "\n",
    "    def pop(self):\n",
    "        if len(self.list) !=0:\n",
    "            return self.list.pop()\n",
    "        else:\n",
    "            print(\"Stack is empty\") \n",
    "\n",
    "    def top(self):\n",
    "        if len(self.list) !=0:\n",
    "            return self.list[len(self.list)-1]\n",
    "        else:\n",
    "            print(\"Stack is empty\")\n",
    "\n",
    "    def search(self, value):\n",
    "        if value in self.list:\n",
    "            return True\n",
    "        else:\n",
    "            return False\n",
    "\n",
    "    def display(self):\n",
    "        print(self.list)\n",
    "\n",
    "s=stack()\n",
    "s.push(10)\n",
    "s.push(20)\n",
    "s.push(30)\n",
    "s.push(40)\n",
    "s.display()\n",
    "s.pop()\n",
    "s.pop()\n",
    "s.display()\n",
    "print(s.top())"
   ]
  },
  {
   "cell_type": "markdown",
   "id": "6fe25f72-b910-4d49-aa51-c0cac44273d3",
   "metadata": {},
   "source": [
    "### QUEUE IMPLEMENTATION"
   ]
  },
  {
   "cell_type": "code",
   "execution_count": 10,
   "id": "9c18dd58-ce7c-43e0-b1f0-2de5150d0749",
   "metadata": {},
   "outputs": [
    {
     "name": "stdout",
     "output_type": "stream",
     "text": [
      "20\n",
      "[20, 30, 40]\n"
     ]
    }
   ],
   "source": [
    "class queue:\n",
    "    def __init__ (self):\n",
    "        self.list=[]\n",
    "\n",
    "    def enqueu(self, value):\n",
    "        self.list.append(value)\n",
    "\n",
    "    def dequeue(self):\n",
    "        if len(self.list) !=0:\n",
    "            return self.list.pop(0)\n",
    "        else:\n",
    "            print(\"Stack is empty\")\n",
    "\n",
    "    def top(self):\n",
    "        if len(self.list) !=0:\n",
    "            return self.list[0]\n",
    "        else:\n",
    "            print(\"Stack is empty\")\n",
    "\n",
    "    def search(self, value):\n",
    "        if value in self.list:\n",
    "            return True\n",
    "        else:\n",
    "            return False\n",
    "\n",
    "    def display(self):\n",
    "        print(self.list)\n",
    "\n",
    "q=queue()\n",
    "q.enqueu(10)\n",
    "q.enqueu(20)\n",
    "q.enqueu(30)\n",
    "q.enqueu(40)\n",
    "q.dequeue()\n",
    "print(q.top())\n",
    "q.display()"
   ]
  },
  {
   "cell_type": "markdown",
   "id": "0b553f8c-b559-4c8b-8a39-e1ca6865bf88",
   "metadata": {},
   "source": [
    "### BINARY SEARCH"
   ]
  },
  {
   "cell_type": "code",
   "execution_count": 11,
   "id": "19d05e84-3773-4d58-b1cc-58e9e906b43d",
   "metadata": {},
   "outputs": [
    {
     "name": "stdout",
     "output_type": "stream",
     "text": [
      "5\n"
     ]
    }
   ],
   "source": [
    "list=[6,12,17,23,38,45,77,84,90] #sorted list\n",
    "\n",
    "def binarySearch(list, find, start, end):\n",
    "    if start>end:\n",
    "        return -1\n",
    "    mid=int((end-start)/2) +start # converted to int bcz in python, division results in floating value, and we have to use it as an index\n",
    "    if(list[mid]==find):\n",
    "        return mid\n",
    "    if list[mid]>find:\n",
    "        return binarySearch(list,find,start, mid-1)\n",
    "    if list[mid]<find:\n",
    "        return binarySearch(list,find,mid+1, end)\n",
    "\n",
    "print(binarySearch(list,45,0,len(list)-1))"
   ]
  },
  {
   "cell_type": "code",
   "execution_count": null,
   "id": "02efacd3-5f8c-44e1-ba39-fc0e12359d9b",
   "metadata": {},
   "outputs": [],
   "source": [
    "list=[6,12,17,23,38,45,77,84,90]\n",
    "\n",
    "def binarySearch(list, find, start, end):\n",
    "    while(start<=end):\n",
    "        mid=int((end-start)/2) +start # converted to int bcz in python, division results in floating value, and we have to use it as an index\n",
    "    if(list[mid]==find):\n",
    "        return mid\n",
    "    if list[mid]>find:\n",
    "        end=mid-1\n",
    "    if list[mid]<find:\n",
    "        start=mid+1\n",
    "\n",
    "print(binarySearch(list,45,0,len(list)-1))"
   ]
  },
  {
   "cell_type": "code",
   "execution_count": null,
   "id": "ae61c342-91de-4e7c-b59d-9b7be4790e5b",
   "metadata": {},
   "outputs": [],
   "source": []
  }
 ],
 "metadata": {
  "kernelspec": {
   "display_name": "Python 3 (ipykernel)",
   "language": "python",
   "name": "python3"
  },
  "language_info": {
   "codemirror_mode": {
    "name": "ipython",
    "version": 3
   },
   "file_extension": ".py",
   "mimetype": "text/x-python",
   "name": "python",
   "nbconvert_exporter": "python",
   "pygments_lexer": "ipython3",
   "version": "3.12.7"
  }
 },
 "nbformat": 4,
 "nbformat_minor": 5
}
